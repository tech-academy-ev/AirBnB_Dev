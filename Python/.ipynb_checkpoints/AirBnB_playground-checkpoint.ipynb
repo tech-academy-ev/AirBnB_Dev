{
 "cells": [
  {
   "cell_type": "code",
   "execution_count": 1,
   "metadata": {},
   "outputs": [],
   "source": [
    "import pandas as pd\n",
    "import numpy as np\n",
    "import matplotlib.pyplot as plt"
   ]
  },
  {
   "cell_type": "code",
   "execution_count": 2,
   "metadata": {},
   "outputs": [],
   "source": [
    "calendar_summary = pd.read_csv('../data/calendar_summary_1.csv', nrows=2000000) # kernel dies at more -> fix\n",
    "listings = pd.read_csv('../data/listings.csv')\n",
    "listings_summary = pd.read_csv('../data/listings_summary.csv')\n",
    "neighbourhoods = pd.read_csv('../data/neighbourhoods.csv')\n",
    "reviews = pd.read_csv('../data/reviews.csv')\n",
    "reviews_summary = pd.read_csv('../data/reviews_summary_1.csv')"
   ]
  },
  {
   "cell_type": "code",
   "execution_count": null,
   "metadata": {},
   "outputs": [],
   "source": []
  }
 ],
 "metadata": {
  "kernelspec": {
   "display_name": "Python 3",
   "language": "python",
   "name": "python3"
  },
  "language_info": {
   "codemirror_mode": {
    "name": "ipython",
    "version": 3
   },
   "file_extension": ".py",
   "mimetype": "text/x-python",
   "name": "python",
   "nbconvert_exporter": "python",
   "pygments_lexer": "ipython3",
   "version": "3.6.7"
  }
 },
 "nbformat": 4,
 "nbformat_minor": 2
}
